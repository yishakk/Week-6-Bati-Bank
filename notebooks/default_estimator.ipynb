{
 "cells": [
  {
   "cell_type": "code",
   "execution_count": 1,
   "metadata": {},
   "outputs": [],
   "source": [
    "import os, sys\n",
    "notebook_dir = os.getcwd()\n",
    "sys.path.append(os.path.abspath(os.path.join(notebook_dir,'..')))"
   ]
  },
  {
   "cell_type": "code",
   "execution_count": null,
   "metadata": {},
   "outputs": [],
   "source": [
    "import pandas as pd\n",
    "import numpy as np\n",
    "import matplotlib.pyplot as plt\n",
    "from scorecardpy import woebin, woebin_plot, woebin_ply\n",
    "from scripts.data_load import load_data"
   ]
  },
  {
   "cell_type": "code",
   "execution_count": 3,
   "metadata": {},
   "outputs": [],
   "source": [
    "data = load_data(\"../data/woe_transformed_data.csv\")"
   ]
  },
  {
   "cell_type": "code",
   "execution_count": 16,
   "metadata": {},
   "outputs": [],
   "source": [
    "# Recency: Days since last transaction\n",
    "data['recency'] = (pd.to_datetime('2025-01-28') - pd.to_datetime(data['TransactionStartTime'])).dt.days\n",
    "\n",
    "# Frequency: Number of transactions\n",
    "data['frequency'] = data.groupby('CustomerId')['TransactionId'].transform('count')\n",
    "\n",
    "# Monetary: Total transaction amount\n",
    "data['monetary'] = data.groupby('CustomerId')['Amount_woe'].transform('sum')\n",
    "\n",
    "# Seasonality: Standard deviation of transaction amounts\n",
    "data['seasonality'] = data.groupby('CustomerId')['TransactionStartTime'].transform(lambda x: pd.to_datetime(x).dt.month.std())"
   ]
  },
  {
   "cell_type": "code",
   "execution_count": 17,
   "metadata": {},
   "outputs": [],
   "source": [
    "# Define RFMS Score: Higher is better\n",
    "data['rfms_score'] = 0.25 * data['recency'] + 0.25 * data['frequency'] + \\\n",
    "                   0.25 * data['monetary'] + 0.25 * data['seasonality']"
   ]
  },
  {
   "cell_type": "code",
   "execution_count": 18,
   "metadata": {},
   "outputs": [
    {
     "data": {
      "text/plain": [
       "0       -13459.347683\n",
       "1       -13459.347683\n",
       "2       -13459.347683\n",
       "3       -13459.347683\n",
       "4       -13459.347683\n",
       "             ...     \n",
       "95657   -13459.347683\n",
       "95658   -13459.347683\n",
       "95659   -13459.347683\n",
       "95660   -13459.347683\n",
       "95661   -13459.347683\n",
       "Name: rfms_score, Length: 95662, dtype: float64"
      ]
     },
     "execution_count": 18,
     "metadata": {},
     "output_type": "execute_result"
    }
   ],
   "source": [
    "data['rfms_score'] "
   ]
  },
  {
   "cell_type": "code",
   "execution_count": 19,
   "metadata": {},
   "outputs": [
    {
     "data": {
      "image/png": "[encoded data removed]",
      "text/plain": [
       "<Figure size 640x480 with 1 Axes>"
      ]
     },
     "metadata": {},
     "output_type": "display_data"
    }
   ],
   "source": [
    "# Drop NaN values from rfms_score column\n",
    "rfms_score_clean = data['rfms_score'].dropna()\n",
    "\n",
    "plt.hist(rfms_score_clean, bins=20, color='skyblue', edgecolor='black')\n",
    "plt.title('RFMS Score Distribution')\n",
    "plt.xlabel('RFMS Score')\n",
    "plt.ylabel('Frequency')\n",
    "plt.show()"
   ]
  },
  {
   "cell_type": "code",
   "execution_count": 20,
   "metadata": {},
   "outputs": [],
   "source": [
    "threshold = data['rfms_score'].median()\n",
    "data['default_label'] = np.where(data['rfms_score'] >= threshold, 'good', 'bad')"
   ]
  },
  {
   "cell_type": "code",
   "execution_count": 29,
   "metadata": {},
   "outputs": [
    {
     "name": "stdout",
     "output_type": "stream",
     "text": [
      "Unique values in default_label: ['good']\n",
      "The default_label column does not have exactly two unique values. Please check the data.\n"
     ]
    }
   ],
   "source": [
    "# Check unique values in default_label column\n",
    "unique_labels = data['default_label'].unique()\n",
    "print(f\"Unique values in default_label: {unique_labels}\")\n",
    "\n",
    "# Ensure default_label has both 'good' and 'bad' labels\n",
    "if len(unique_labels) != 2:\n",
    "\tprint(\"The default_label column does not have exactly two unique values. Please check the data.\")\n",
    "else:\n",
    "\tbins = woebin(data, y='default_label', x=['recency', 'frequency', 'monetary', 'seasonality'], positive='good')"
   ]
  }
 ],
 "metadata": {
  "kernelspec": {
   "display_name": ".venv",
   "language": "python",
   "name": "python3"
  },
  "language_info": {
   "codemirror_mode": {
    "name": "ipython",
    "version": 3
   },
   "file_extension": ".py",
   "mimetype": "text/x-python",
   "name": "python",
   "nbconvert_exporter": "python",
   "pygments_lexer": "ipython3",
   "version": "3.13.1"
  }
 },
 "nbformat": 4,
 "nbformat_minor": 2
}
