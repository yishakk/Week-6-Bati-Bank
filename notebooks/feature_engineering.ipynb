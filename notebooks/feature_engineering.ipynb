{
 "cells": [
  {
   "cell_type": "code",
   "execution_count": 1,
   "metadata": {},
   "outputs": [],
   "source": [
    "import os, sys\n",
    "notebook_dir = os.getcwd()\n",
    "sys.path.append(os.path.abspath(os.path.join(notebook_dir,'..')))"
   ]
  },
  {
   "cell_type": "code",
   "execution_count": 3,
   "metadata": {},
   "outputs": [
    {
     "name": "stdout",
     "output_type": "stream",
     "text": [
      "Collecting setuptools\n",
      "  Using cached setuptools-75.8.0-py3-none-any.whl.metadata (6.7 kB)\n",
      "Using cached setuptools-75.8.0-py3-none-any.whl (1.2 MB)\n",
      "Installing collected packages: setuptools\n",
      "Successfully installed setuptools-75.8.0\n",
      "Note: you may need to restart the kernel to use updated packages.\n"
     ]
    }
   ],
   "source": [
    "%pip install setuptools\n",
    "\n",
    "from scripts.data_load import load_data\n",
    "from scripts.data_visualization import *\n",
    "import pandas as pd\n",
    "import numpy as np\n",
    "import scorecardpy as sc"
   ]
  },
  {
   "cell_type": "code",
   "execution_count": 4,
   "metadata": {},
   "outputs": [],
   "source": [
    "df = load_data(\"../data/cleaned_dataset.csv\")"
   ]
  },
  {
   "cell_type": "code",
   "execution_count": 5,
   "metadata": {},
   "outputs": [],
   "source": [
    "df = df.rename(columns={\"FraudResult\": \"target\"})"
   ]
  },
  {
   "cell_type": "code",
   "execution_count": 6,
   "metadata": {},
   "outputs": [],
   "source": [
    "# Replace missing values\n",
    "df.fillna(-999, inplace=True)"
   ]
  },
  {
   "cell_type": "code",
   "execution_count": 12,
   "metadata": {},
   "outputs": [
    {
     "name": "stdout",
     "output_type": "stream",
     "text": [
      "[INFO] creating woe binning ...\n"
     ]
    },
    {
     "name": "stderr",
     "output_type": "stream",
     "text": [
      "c:\\Users\\USER\\Documents\\10X Exercises\\Week-6-Bati-Bank\\.venv\\Lib\\site-packages\\scorecardpy\\condition_fun.py:34: UserWarning: There are 12 columns have only one unique values, which are removed from input dataset. \n",
      " (ColumnNames: TransactionId, BatchId, AccountId, SubscriptionId, CustomerId, CurrencyCode, CountryCode, ProviderId, ProductId, ProductCategory, ChannelId, TransactionStartTime)\n",
      "  warnings.warn(\"There are {} columns have only one unique values, which are removed from input dataset. \\n (ColumnNames: {})\".format(len(unique1_cols), ', '.join(unique1_cols)))\n",
      "c:\\Users\\USER\\Documents\\10X Exercises\\Week-6-Bati-Bank\\.venv\\Lib\\site-packages\\scorecardpy\\condition_fun.py:40: FutureWarning: errors='ignore' is deprecated and will raise in a future version. Use to_numeric without passing `errors` and catch exceptions explicitly instead\n",
      "  datetime_cols = dat.apply(pd.to_numeric,errors='ignore').select_dtypes(object).apply(pd.to_datetime,errors='ignore').select_dtypes('datetime64').columns.tolist()\n",
      "c:\\Users\\USER\\Documents\\10X Exercises\\Week-6-Bati-Bank\\.venv\\Lib\\site-packages\\scorecardpy\\condition_fun.py:40: FutureWarning: errors='ignore' is deprecated and will raise in a future version. Use to_datetime without passing `errors` and catch exceptions explicitly instead\n",
      "  datetime_cols = dat.apply(pd.to_numeric,errors='ignore').select_dtypes(object).apply(pd.to_datetime,errors='ignore').select_dtypes('datetime64').columns.tolist()\n",
      "c:\\Users\\USER\\Documents\\10X Exercises\\Week-6-Bati-Bank\\.venv\\Lib\\site-packages\\scorecardpy\\woebin.py:320: FutureWarning: The default of observed=False is deprecated and will be changed to True in a future version of pandas. Pass observed=False to retain current behavior or observed=True to adopt the future default and silence this warning.\n",
      "  init_bin = dtm.groupby('bin', group_keys=False)['y'].agg([n0, n1])\\\n",
      "c:\\Users\\USER\\Documents\\10X Exercises\\Week-6-Bati-Bank\\.venv\\Lib\\site-packages\\scorecardpy\\woebin.py:361: FutureWarning: The provided callable <built-in function sum> is currently using SeriesGroupBy.sum. In a future version of pandas, the provided callable will be used directly. To keep current behavior pass the string \"sum\" instead.\n",
      "  init_bin = init_bin.groupby('brkp', group_keys=False).agg({\n",
      "c:\\Users\\USER\\Documents\\10X Exercises\\Week-6-Bati-Bank\\.venv\\Lib\\site-packages\\scorecardpy\\woebin.py:361: FutureWarning: The provided callable <built-in function sum> is currently using SeriesGroupBy.sum. In a future version of pandas, the provided callable will be used directly. To keep current behavior pass the string \"sum\" instead.\n",
      "  init_bin = init_bin.groupby('brkp', group_keys=False).agg({\n",
      "c:\\Users\\USER\\Documents\\10X Exercises\\Week-6-Bati-Bank\\.venv\\Lib\\site-packages\\scorecardpy\\woebin.py:361: FutureWarning: The provided callable <built-in function sum> is currently using SeriesGroupBy.sum. In a future version of pandas, the provided callable will be used directly. To keep current behavior pass the string \"sum\" instead.\n",
      "  init_bin = init_bin.groupby('brkp', group_keys=False).agg({\n",
      "c:\\Users\\USER\\Documents\\10X Exercises\\Week-6-Bati-Bank\\.venv\\Lib\\site-packages\\scorecardpy\\woebin.py:361: FutureWarning: The provided callable <built-in function sum> is currently using SeriesGroupBy.sum. In a future version of pandas, the provided callable will be used directly. To keep current behavior pass the string \"sum\" instead.\n",
      "  init_bin = init_bin.groupby('brkp', group_keys=False).agg({\n",
      "c:\\Users\\USER\\Documents\\10X Exercises\\Week-6-Bati-Bank\\.venv\\Lib\\site-packages\\scorecardpy\\woebin.py:361: FutureWarning: The provided callable <built-in function sum> is currently using SeriesGroupBy.sum. In a future version of pandas, the provided callable will be used directly. To keep current behavior pass the string \"sum\" instead.\n",
      "  init_bin = init_bin.groupby('brkp', group_keys=False).agg({\n",
      "c:\\Users\\USER\\Documents\\10X Exercises\\Week-6-Bati-Bank\\.venv\\Lib\\site-packages\\scorecardpy\\woebin.py:361: FutureWarning: The provided callable <built-in function sum> is currently using SeriesGroupBy.sum. In a future version of pandas, the provided callable will be used directly. To keep current behavior pass the string \"sum\" instead.\n",
      "  init_bin = init_bin.groupby('brkp', group_keys=False).agg({\n",
      "c:\\Users\\USER\\Documents\\10X Exercises\\Week-6-Bati-Bank\\.venv\\Lib\\site-packages\\scorecardpy\\woebin.py:361: FutureWarning: The provided callable <built-in function sum> is currently using SeriesGroupBy.sum. In a future version of pandas, the provided callable will be used directly. To keep current behavior pass the string \"sum\" instead.\n",
      "  init_bin = init_bin.groupby('brkp', group_keys=False).agg({\n",
      "c:\\Users\\USER\\Documents\\10X Exercises\\Week-6-Bati-Bank\\.venv\\Lib\\site-packages\\scorecardpy\\woebin.py:361: FutureWarning: The provided callable <built-in function sum> is currently using SeriesGroupBy.sum. In a future version of pandas, the provided callable will be used directly. To keep current behavior pass the string \"sum\" instead.\n",
      "  init_bin = init_bin.groupby('brkp', group_keys=False).agg({\n",
      "c:\\Users\\USER\\Documents\\10X Exercises\\Week-6-Bati-Bank\\.venv\\Lib\\site-packages\\scorecardpy\\woebin.py:361: FutureWarning: The provided callable <built-in function sum> is currently using SeriesGroupBy.sum. In a future version of pandas, the provided callable will be used directly. To keep current behavior pass the string \"sum\" instead.\n",
      "  init_bin = init_bin.groupby('brkp', group_keys=False).agg({\n",
      "c:\\Users\\USER\\Documents\\10X Exercises\\Week-6-Bati-Bank\\.venv\\Lib\\site-packages\\scorecardpy\\woebin.py:361: FutureWarning: The provided callable <built-in function sum> is currently using SeriesGroupBy.sum. In a future version of pandas, the provided callable will be used directly. To keep current behavior pass the string \"sum\" instead.\n",
      "  init_bin = init_bin.groupby('brkp', group_keys=False).agg({\n",
      "c:\\Users\\USER\\Documents\\10X Exercises\\Week-6-Bati-Bank\\.venv\\Lib\\site-packages\\scorecardpy\\woebin.py:361: FutureWarning: The provided callable <built-in function sum> is currently using SeriesGroupBy.sum. In a future version of pandas, the provided callable will be used directly. To keep current behavior pass the string \"sum\" instead.\n",
      "  init_bin = init_bin.groupby('brkp', group_keys=False).agg({\n",
      "c:\\Users\\USER\\Documents\\10X Exercises\\Week-6-Bati-Bank\\.venv\\Lib\\site-packages\\scorecardpy\\woebin.py:361: FutureWarning: The provided callable <built-in function sum> is currently using SeriesGroupBy.sum. In a future version of pandas, the provided callable will be used directly. To keep current behavior pass the string \"sum\" instead.\n",
      "  init_bin = init_bin.groupby('brkp', group_keys=False).agg({\n",
      "c:\\Users\\USER\\Documents\\10X Exercises\\Week-6-Bati-Bank\\.venv\\Lib\\site-packages\\scorecardpy\\woebin.py:361: FutureWarning: The provided callable <built-in function sum> is currently using SeriesGroupBy.sum. In a future version of pandas, the provided callable will be used directly. To keep current behavior pass the string \"sum\" instead.\n",
      "  init_bin = init_bin.groupby('brkp', group_keys=False).agg({\n",
      "c:\\Users\\USER\\Documents\\10X Exercises\\Week-6-Bati-Bank\\.venv\\Lib\\site-packages\\scorecardpy\\woebin.py:361: FutureWarning: The provided callable <built-in function sum> is currently using SeriesGroupBy.sum. In a future version of pandas, the provided callable will be used directly. To keep current behavior pass the string \"sum\" instead.\n",
      "  init_bin = init_bin.groupby('brkp', group_keys=False).agg({\n",
      "c:\\Users\\USER\\Documents\\10X Exercises\\Week-6-Bati-Bank\\.venv\\Lib\\site-packages\\scorecardpy\\woebin.py:361: FutureWarning: The provided callable <built-in function sum> is currently using SeriesGroupBy.sum. In a future version of pandas, the provided callable will be used directly. To keep current behavior pass the string \"sum\" instead.\n",
      "  init_bin = init_bin.groupby('brkp', group_keys=False).agg({\n",
      "c:\\Users\\USER\\Documents\\10X Exercises\\Week-6-Bati-Bank\\.venv\\Lib\\site-packages\\scorecardpy\\woebin.py:361: FutureWarning: The provided callable <built-in function sum> is currently using SeriesGroupBy.sum. In a future version of pandas, the provided callable will be used directly. To keep current behavior pass the string \"sum\" instead.\n",
      "  init_bin = init_bin.groupby('brkp', group_keys=False).agg({\n",
      "c:\\Users\\USER\\Documents\\10X Exercises\\Week-6-Bati-Bank\\.venv\\Lib\\site-packages\\scorecardpy\\woebin.py:361: FutureWarning: The provided callable <built-in function sum> is currently using SeriesGroupBy.sum. In a future version of pandas, the provided callable will be used directly. To keep current behavior pass the string \"sum\" instead.\n",
      "  init_bin = init_bin.groupby('brkp', group_keys=False).agg({\n",
      "c:\\Users\\USER\\Documents\\10X Exercises\\Week-6-Bati-Bank\\.venv\\Lib\\site-packages\\scorecardpy\\woebin.py:361: FutureWarning: The provided callable <built-in function sum> is currently using SeriesGroupBy.sum. In a future version of pandas, the provided callable will be used directly. To keep current behavior pass the string \"sum\" instead.\n",
      "  init_bin = init_bin.groupby('brkp', group_keys=False).agg({\n",
      "c:\\Users\\USER\\Documents\\10X Exercises\\Week-6-Bati-Bank\\.venv\\Lib\\site-packages\\scorecardpy\\woebin.py:361: FutureWarning: The provided callable <built-in function sum> is currently using SeriesGroupBy.sum. In a future version of pandas, the provided callable will be used directly. To keep current behavior pass the string \"sum\" instead.\n",
      "  init_bin = init_bin.groupby('brkp', group_keys=False).agg({\n",
      "c:\\Users\\USER\\Documents\\10X Exercises\\Week-6-Bati-Bank\\.venv\\Lib\\site-packages\\scorecardpy\\woebin.py:361: FutureWarning: The provided callable <built-in function sum> is currently using SeriesGroupBy.sum. In a future version of pandas, the provided callable will be used directly. To keep current behavior pass the string \"sum\" instead.\n",
      "  init_bin = init_bin.groupby('brkp', group_keys=False).agg({\n",
      "c:\\Users\\USER\\Documents\\10X Exercises\\Week-6-Bati-Bank\\.venv\\Lib\\site-packages\\scorecardpy\\woebin.py:361: FutureWarning: The provided callable <built-in function sum> is currently using SeriesGroupBy.sum. In a future version of pandas, the provided callable will be used directly. To keep current behavior pass the string \"sum\" instead.\n",
      "  init_bin = init_bin.groupby('brkp', group_keys=False).agg({\n",
      "c:\\Users\\USER\\Documents\\10X Exercises\\Week-6-Bati-Bank\\.venv\\Lib\\site-packages\\scorecardpy\\woebin.py:361: FutureWarning: The provided callable <built-in function sum> is currently using SeriesGroupBy.sum. In a future version of pandas, the provided callable will be used directly. To keep current behavior pass the string \"sum\" instead.\n",
      "  init_bin = init_bin.groupby('brkp', group_keys=False).agg({\n",
      "c:\\Users\\USER\\Documents\\10X Exercises\\Week-6-Bati-Bank\\.venv\\Lib\\site-packages\\scorecardpy\\woebin.py:361: FutureWarning: The provided callable <built-in function sum> is currently using SeriesGroupBy.sum. In a future version of pandas, the provided callable will be used directly. To keep current behavior pass the string \"sum\" instead.\n",
      "  init_bin = init_bin.groupby('brkp', group_keys=False).agg({\n",
      "c:\\Users\\USER\\Documents\\10X Exercises\\Week-6-Bati-Bank\\.venv\\Lib\\site-packages\\scorecardpy\\woebin.py:361: FutureWarning: The provided callable <built-in function sum> is currently using SeriesGroupBy.sum. In a future version of pandas, the provided callable will be used directly. To keep current behavior pass the string \"sum\" instead.\n",
      "  init_bin = init_bin.groupby('brkp', group_keys=False).agg({\n",
      "c:\\Users\\USER\\Documents\\10X Exercises\\Week-6-Bati-Bank\\.venv\\Lib\\site-packages\\scorecardpy\\woebin.py:361: FutureWarning: The provided callable <built-in function sum> is currently using SeriesGroupBy.sum. In a future version of pandas, the provided callable will be used directly. To keep current behavior pass the string \"sum\" instead.\n",
      "  init_bin = init_bin.groupby('brkp', group_keys=False).agg({\n",
      "c:\\Users\\USER\\Documents\\10X Exercises\\Week-6-Bati-Bank\\.venv\\Lib\\site-packages\\scorecardpy\\woebin.py:361: FutureWarning: The provided callable <built-in function sum> is currently using SeriesGroupBy.sum. In a future version of pandas, the provided callable will be used directly. To keep current behavior pass the string \"sum\" instead.\n",
      "  init_bin = init_bin.groupby('brkp', group_keys=False).agg({\n",
      "c:\\Users\\USER\\Documents\\10X Exercises\\Week-6-Bati-Bank\\.venv\\Lib\\site-packages\\scorecardpy\\woebin.py:361: FutureWarning: The provided callable <built-in function sum> is currently using SeriesGroupBy.sum. In a future version of pandas, the provided callable will be used directly. To keep current behavior pass the string \"sum\" instead.\n",
      "  init_bin = init_bin.groupby('brkp', group_keys=False).agg({\n",
      "c:\\Users\\USER\\Documents\\10X Exercises\\Week-6-Bati-Bank\\.venv\\Lib\\site-packages\\scorecardpy\\woebin.py:361: FutureWarning: The provided callable <built-in function sum> is currently using SeriesGroupBy.sum. In a future version of pandas, the provided callable will be used directly. To keep current behavior pass the string \"sum\" instead.\n",
      "  init_bin = init_bin.groupby('brkp', group_keys=False).agg({\n",
      "c:\\Users\\USER\\Documents\\10X Exercises\\Week-6-Bati-Bank\\.venv\\Lib\\site-packages\\scorecardpy\\woebin.py:361: FutureWarning: The provided callable <built-in function sum> is currently using SeriesGroupBy.sum. In a future version of pandas, the provided callable will be used directly. To keep current behavior pass the string \"sum\" instead.\n",
      "  init_bin = init_bin.groupby('brkp', group_keys=False).agg({\n",
      "c:\\Users\\USER\\Documents\\10X Exercises\\Week-6-Bati-Bank\\.venv\\Lib\\site-packages\\scorecardpy\\woebin.py:361: FutureWarning: The provided callable <built-in function sum> is currently using SeriesGroupBy.sum. In a future version of pandas, the provided callable will be used directly. To keep current behavior pass the string \"sum\" instead.\n",
      "  init_bin = init_bin.groupby('brkp', group_keys=False).agg({\n",
      "c:\\Users\\USER\\Documents\\10X Exercises\\Week-6-Bati-Bank\\.venv\\Lib\\site-packages\\scorecardpy\\woebin.py:361: FutureWarning: The provided callable <built-in function sum> is currently using SeriesGroupBy.sum. In a future version of pandas, the provided callable will be used directly. To keep current behavior pass the string \"sum\" instead.\n",
      "  init_bin = init_bin.groupby('brkp', group_keys=False).agg({\n",
      "c:\\Users\\USER\\Documents\\10X Exercises\\Week-6-Bati-Bank\\.venv\\Lib\\site-packages\\scorecardpy\\woebin.py:361: FutureWarning: The provided callable <built-in function sum> is currently using SeriesGroupBy.sum. In a future version of pandas, the provided callable will be used directly. To keep current behavior pass the string \"sum\" instead.\n",
      "  init_bin = init_bin.groupby('brkp', group_keys=False).agg({\n",
      "c:\\Users\\USER\\Documents\\10X Exercises\\Week-6-Bati-Bank\\.venv\\Lib\\site-packages\\scorecardpy\\woebin.py:361: FutureWarning: The provided callable <built-in function sum> is currently using SeriesGroupBy.sum. In a future version of pandas, the provided callable will be used directly. To keep current behavior pass the string \"sum\" instead.\n",
      "  init_bin = init_bin.groupby('brkp', group_keys=False).agg({\n",
      "c:\\Users\\USER\\Documents\\10X Exercises\\Week-6-Bati-Bank\\.venv\\Lib\\site-packages\\scorecardpy\\woebin.py:361: FutureWarning: The provided callable <built-in function sum> is currently using SeriesGroupBy.sum. In a future version of pandas, the provided callable will be used directly. To keep current behavior pass the string \"sum\" instead.\n",
      "  init_bin = init_bin.groupby('brkp', group_keys=False).agg({\n",
      "c:\\Users\\USER\\Documents\\10X Exercises\\Week-6-Bati-Bank\\.venv\\Lib\\site-packages\\scorecardpy\\woebin.py:361: FutureWarning: The provided callable <built-in function sum> is currently using SeriesGroupBy.sum. In a future version of pandas, the provided callable will be used directly. To keep current behavior pass the string \"sum\" instead.\n",
      "  init_bin = init_bin.groupby('brkp', group_keys=False).agg({\n",
      "c:\\Users\\USER\\Documents\\10X Exercises\\Week-6-Bati-Bank\\.venv\\Lib\\site-packages\\scorecardpy\\woebin.py:361: FutureWarning: The provided callable <built-in function sum> is currently using SeriesGroupBy.sum. In a future version of pandas, the provided callable will be used directly. To keep current behavior pass the string \"sum\" instead.\n",
      "  init_bin = init_bin.groupby('brkp', group_keys=False).agg({\n",
      "c:\\Users\\USER\\Documents\\10X Exercises\\Week-6-Bati-Bank\\.venv\\Lib\\site-packages\\scorecardpy\\woebin.py:361: FutureWarning: The provided callable <built-in function sum> is currently using SeriesGroupBy.sum. In a future version of pandas, the provided callable will be used directly. To keep current behavior pass the string \"sum\" instead.\n",
      "  init_bin = init_bin.groupby('brkp', group_keys=False).agg({\n",
      "c:\\Users\\USER\\Documents\\10X Exercises\\Week-6-Bati-Bank\\.venv\\Lib\\site-packages\\scorecardpy\\woebin.py:414: FutureWarning: The provided callable <built-in function sum> is currently using SeriesGroupBy.sum. In a future version of pandas, the provided callable will be used directly. To keep current behavior pass the string \"sum\" instead.\n",
      "  .agg({'good':sum, 'bad':sum}).reset_index()\\\n",
      "c:\\Users\\USER\\Documents\\10X Exercises\\Week-6-Bati-Bank\\.venv\\Lib\\site-packages\\scorecardpy\\woebin.py:414: FutureWarning: The provided callable <built-in function sum> is currently using SeriesGroupBy.sum. In a future version of pandas, the provided callable will be used directly. To keep current behavior pass the string \"sum\" instead.\n",
      "  .agg({'good':sum, 'bad':sum}).reset_index()\\\n",
      "c:\\Users\\USER\\Documents\\10X Exercises\\Week-6-Bati-Bank\\.venv\\Lib\\site-packages\\scorecardpy\\woebin.py:442: FutureWarning: The default of observed=False is deprecated and will be changed to True in a future version of pandas. Pass observed=False to retain current behavior or observed=True to adopt the future default and silence this warning.\n",
      "  binning_1bst_brk = binning_1bst_brk.groupby(['variable', 'bstbin'], group_keys=False)\\\n",
      "c:\\Users\\USER\\Documents\\10X Exercises\\Week-6-Bati-Bank\\.venv\\Lib\\site-packages\\scorecardpy\\woebin.py:443: FutureWarning: The provided callable <built-in function sum> is currently using SeriesGroupBy.sum. In a future version of pandas, the provided callable will be used directly. To keep current behavior pass the string \"sum\" instead.\n",
      "  .agg({'good':sum, 'bad':sum}).reset_index().assign(bin=lambda x: x['bstbin'])\\\n",
      "c:\\Users\\USER\\Documents\\10X Exercises\\Week-6-Bati-Bank\\.venv\\Lib\\site-packages\\scorecardpy\\woebin.py:443: FutureWarning: The provided callable <built-in function sum> is currently using SeriesGroupBy.sum. In a future version of pandas, the provided callable will be used directly. To keep current behavior pass the string \"sum\" instead.\n",
      "  .agg({'good':sum, 'bad':sum}).reset_index().assign(bin=lambda x: x['bstbin'])\\\n",
      "c:\\Users\\USER\\Documents\\10X Exercises\\Week-6-Bati-Bank\\.venv\\Lib\\site-packages\\scorecardpy\\woebin.py:414: FutureWarning: The provided callable <built-in function sum> is currently using SeriesGroupBy.sum. In a future version of pandas, the provided callable will be used directly. To keep current behavior pass the string \"sum\" instead.\n",
      "  .agg({'good':sum, 'bad':sum}).reset_index()\\\n",
      "c:\\Users\\USER\\Documents\\10X Exercises\\Week-6-Bati-Bank\\.venv\\Lib\\site-packages\\scorecardpy\\woebin.py:414: FutureWarning: The provided callable <built-in function sum> is currently using SeriesGroupBy.sum. In a future version of pandas, the provided callable will be used directly. To keep current behavior pass the string \"sum\" instead.\n",
      "  .agg({'good':sum, 'bad':sum}).reset_index()\\\n",
      "c:\\Users\\USER\\Documents\\10X Exercises\\Week-6-Bati-Bank\\.venv\\Lib\\site-packages\\scorecardpy\\woebin.py:442: FutureWarning: The default of observed=False is deprecated and will be changed to True in a future version of pandas. Pass observed=False to retain current behavior or observed=True to adopt the future default and silence this warning.\n",
      "  binning_1bst_brk = binning_1bst_brk.groupby(['variable', 'bstbin'], group_keys=False)\\\n",
      "c:\\Users\\USER\\Documents\\10X Exercises\\Week-6-Bati-Bank\\.venv\\Lib\\site-packages\\scorecardpy\\woebin.py:443: FutureWarning: The provided callable <built-in function sum> is currently using SeriesGroupBy.sum. In a future version of pandas, the provided callable will be used directly. To keep current behavior pass the string \"sum\" instead.\n",
      "  .agg({'good':sum, 'bad':sum}).reset_index().assign(bin=lambda x: x['bstbin'])\\\n",
      "c:\\Users\\USER\\Documents\\10X Exercises\\Week-6-Bati-Bank\\.venv\\Lib\\site-packages\\scorecardpy\\woebin.py:443: FutureWarning: The provided callable <built-in function sum> is currently using SeriesGroupBy.sum. In a future version of pandas, the provided callable will be used directly. To keep current behavior pass the string \"sum\" instead.\n",
      "  .agg({'good':sum, 'bad':sum}).reset_index().assign(bin=lambda x: x['bstbin'])\\\n",
      "c:\\Users\\USER\\Documents\\10X Exercises\\Week-6-Bati-Bank\\.venv\\Lib\\site-packages\\scorecardpy\\woebin.py:320: FutureWarning: The default of observed=False is deprecated and will be changed to True in a future version of pandas. Pass observed=False to retain current behavior or observed=True to adopt the future default and silence this warning.\n",
      "  init_bin = dtm.groupby('bin', group_keys=False)['y'].agg([n0, n1])\\\n",
      "c:\\Users\\USER\\Documents\\10X Exercises\\Week-6-Bati-Bank\\.venv\\Lib\\site-packages\\scorecardpy\\woebin.py:361: FutureWarning: The provided callable <built-in function sum> is currently using SeriesGroupBy.sum. In a future version of pandas, the provided callable will be used directly. To keep current behavior pass the string \"sum\" instead.\n",
      "  init_bin = init_bin.groupby('brkp', group_keys=False).agg({\n",
      "c:\\Users\\USER\\Documents\\10X Exercises\\Week-6-Bati-Bank\\.venv\\Lib\\site-packages\\scorecardpy\\woebin.py:361: FutureWarning: The provided callable <built-in function sum> is currently using SeriesGroupBy.sum. In a future version of pandas, the provided callable will be used directly. To keep current behavior pass the string \"sum\" instead.\n",
      "  init_bin = init_bin.groupby('brkp', group_keys=False).agg({\n",
      "c:\\Users\\USER\\Documents\\10X Exercises\\Week-6-Bati-Bank\\.venv\\Lib\\site-packages\\scorecardpy\\woebin.py:361: FutureWarning: The provided callable <built-in function sum> is currently using SeriesGroupBy.sum. In a future version of pandas, the provided callable will be used directly. To keep current behavior pass the string \"sum\" instead.\n",
      "  init_bin = init_bin.groupby('brkp', group_keys=False).agg({\n",
      "c:\\Users\\USER\\Documents\\10X Exercises\\Week-6-Bati-Bank\\.venv\\Lib\\site-packages\\scorecardpy\\woebin.py:361: FutureWarning: The provided callable <built-in function sum> is currently using SeriesGroupBy.sum. In a future version of pandas, the provided callable will be used directly. To keep current behavior pass the string \"sum\" instead.\n",
      "  init_bin = init_bin.groupby('brkp', group_keys=False).agg({\n",
      "c:\\Users\\USER\\Documents\\10X Exercises\\Week-6-Bati-Bank\\.venv\\Lib\\site-packages\\scorecardpy\\woebin.py:361: FutureWarning: The provided callable <built-in function sum> is currently using SeriesGroupBy.sum. In a future version of pandas, the provided callable will be used directly. To keep current behavior pass the string \"sum\" instead.\n",
      "  init_bin = init_bin.groupby('brkp', group_keys=False).agg({\n",
      "c:\\Users\\USER\\Documents\\10X Exercises\\Week-6-Bati-Bank\\.venv\\Lib\\site-packages\\scorecardpy\\woebin.py:361: FutureWarning: The provided callable <built-in function sum> is currently using SeriesGroupBy.sum. In a future version of pandas, the provided callable will be used directly. To keep current behavior pass the string \"sum\" instead.\n",
      "  init_bin = init_bin.groupby('brkp', group_keys=False).agg({\n",
      "c:\\Users\\USER\\Documents\\10X Exercises\\Week-6-Bati-Bank\\.venv\\Lib\\site-packages\\scorecardpy\\woebin.py:361: FutureWarning: The provided callable <built-in function sum> is currently using SeriesGroupBy.sum. In a future version of pandas, the provided callable will be used directly. To keep current behavior pass the string \"sum\" instead.\n",
      "  init_bin = init_bin.groupby('brkp', group_keys=False).agg({\n",
      "c:\\Users\\USER\\Documents\\10X Exercises\\Week-6-Bati-Bank\\.venv\\Lib\\site-packages\\scorecardpy\\woebin.py:361: FutureWarning: The provided callable <built-in function sum> is currently using SeriesGroupBy.sum. In a future version of pandas, the provided callable will be used directly. To keep current behavior pass the string \"sum\" instead.\n",
      "  init_bin = init_bin.groupby('brkp', group_keys=False).agg({\n",
      "c:\\Users\\USER\\Documents\\10X Exercises\\Week-6-Bati-Bank\\.venv\\Lib\\site-packages\\scorecardpy\\woebin.py:361: FutureWarning: The provided callable <built-in function sum> is currently using SeriesGroupBy.sum. In a future version of pandas, the provided callable will be used directly. To keep current behavior pass the string \"sum\" instead.\n",
      "  init_bin = init_bin.groupby('brkp', group_keys=False).agg({\n",
      "c:\\Users\\USER\\Documents\\10X Exercises\\Week-6-Bati-Bank\\.venv\\Lib\\site-packages\\scorecardpy\\woebin.py:361: FutureWarning: The provided callable <built-in function sum> is currently using SeriesGroupBy.sum. In a future version of pandas, the provided callable will be used directly. To keep current behavior pass the string \"sum\" instead.\n",
      "  init_bin = init_bin.groupby('brkp', group_keys=False).agg({\n",
      "c:\\Users\\USER\\Documents\\10X Exercises\\Week-6-Bati-Bank\\.venv\\Lib\\site-packages\\scorecardpy\\woebin.py:361: FutureWarning: The provided callable <built-in function sum> is currently using SeriesGroupBy.sum. In a future version of pandas, the provided callable will be used directly. To keep current behavior pass the string \"sum\" instead.\n",
      "  init_bin = init_bin.groupby('brkp', group_keys=False).agg({\n",
      "c:\\Users\\USER\\Documents\\10X Exercises\\Week-6-Bati-Bank\\.venv\\Lib\\site-packages\\scorecardpy\\woebin.py:361: FutureWarning: The provided callable <built-in function sum> is currently using SeriesGroupBy.sum. In a future version of pandas, the provided callable will be used directly. To keep current behavior pass the string \"sum\" instead.\n",
      "  init_bin = init_bin.groupby('brkp', group_keys=False).agg({\n",
      "c:\\Users\\USER\\Documents\\10X Exercises\\Week-6-Bati-Bank\\.venv\\Lib\\site-packages\\scorecardpy\\woebin.py:361: FutureWarning: The provided callable <built-in function sum> is currently using SeriesGroupBy.sum. In a future version of pandas, the provided callable will be used directly. To keep current behavior pass the string \"sum\" instead.\n",
      "  init_bin = init_bin.groupby('brkp', group_keys=False).agg({\n",
      "c:\\Users\\USER\\Documents\\10X Exercises\\Week-6-Bati-Bank\\.venv\\Lib\\site-packages\\scorecardpy\\woebin.py:361: FutureWarning: The provided callable <built-in function sum> is currently using SeriesGroupBy.sum. In a future version of pandas, the provided callable will be used directly. To keep current behavior pass the string \"sum\" instead.\n",
      "  init_bin = init_bin.groupby('brkp', group_keys=False).agg({\n",
      "c:\\Users\\USER\\Documents\\10X Exercises\\Week-6-Bati-Bank\\.venv\\Lib\\site-packages\\scorecardpy\\woebin.py:361: FutureWarning: The provided callable <built-in function sum> is currently using SeriesGroupBy.sum. In a future version of pandas, the provided callable will be used directly. To keep current behavior pass the string \"sum\" instead.\n",
      "  init_bin = init_bin.groupby('brkp', group_keys=False).agg({\n",
      "c:\\Users\\USER\\Documents\\10X Exercises\\Week-6-Bati-Bank\\.venv\\Lib\\site-packages\\scorecardpy\\woebin.py:361: FutureWarning: The provided callable <built-in function sum> is currently using SeriesGroupBy.sum. In a future version of pandas, the provided callable will be used directly. To keep current behavior pass the string \"sum\" instead.\n",
      "  init_bin = init_bin.groupby('brkp', group_keys=False).agg({\n",
      "c:\\Users\\USER\\Documents\\10X Exercises\\Week-6-Bati-Bank\\.venv\\Lib\\site-packages\\scorecardpy\\woebin.py:361: FutureWarning: The provided callable <built-in function sum> is currently using SeriesGroupBy.sum. In a future version of pandas, the provided callable will be used directly. To keep current behavior pass the string \"sum\" instead.\n",
      "  init_bin = init_bin.groupby('brkp', group_keys=False).agg({\n",
      "c:\\Users\\USER\\Documents\\10X Exercises\\Week-6-Bati-Bank\\.venv\\Lib\\site-packages\\scorecardpy\\woebin.py:361: FutureWarning: The provided callable <built-in function sum> is currently using SeriesGroupBy.sum. In a future version of pandas, the provided callable will be used directly. To keep current behavior pass the string \"sum\" instead.\n",
      "  init_bin = init_bin.groupby('brkp', group_keys=False).agg({\n",
      "c:\\Users\\USER\\Documents\\10X Exercises\\Week-6-Bati-Bank\\.venv\\Lib\\site-packages\\scorecardpy\\woebin.py:361: FutureWarning: The provided callable <built-in function sum> is currently using SeriesGroupBy.sum. In a future version of pandas, the provided callable will be used directly. To keep current behavior pass the string \"sum\" instead.\n",
      "  init_bin = init_bin.groupby('brkp', group_keys=False).agg({\n",
      "c:\\Users\\USER\\Documents\\10X Exercises\\Week-6-Bati-Bank\\.venv\\Lib\\site-packages\\scorecardpy\\woebin.py:361: FutureWarning: The provided callable <built-in function sum> is currently using SeriesGroupBy.sum. In a future version of pandas, the provided callable will be used directly. To keep current behavior pass the string \"sum\" instead.\n",
      "  init_bin = init_bin.groupby('brkp', group_keys=False).agg({\n",
      "c:\\Users\\USER\\Documents\\10X Exercises\\Week-6-Bati-Bank\\.venv\\Lib\\site-packages\\scorecardpy\\woebin.py:361: FutureWarning: The provided callable <built-in function sum> is currently using SeriesGroupBy.sum. In a future version of pandas, the provided callable will be used directly. To keep current behavior pass the string \"sum\" instead.\n",
      "  init_bin = init_bin.groupby('brkp', group_keys=False).agg({\n",
      "c:\\Users\\USER\\Documents\\10X Exercises\\Week-6-Bati-Bank\\.venv\\Lib\\site-packages\\scorecardpy\\woebin.py:361: FutureWarning: The provided callable <built-in function sum> is currently using SeriesGroupBy.sum. In a future version of pandas, the provided callable will be used directly. To keep current behavior pass the string \"sum\" instead.\n",
      "  init_bin = init_bin.groupby('brkp', group_keys=False).agg({\n",
      "c:\\Users\\USER\\Documents\\10X Exercises\\Week-6-Bati-Bank\\.venv\\Lib\\site-packages\\scorecardpy\\woebin.py:361: FutureWarning: The provided callable <built-in function sum> is currently using SeriesGroupBy.sum. In a future version of pandas, the provided callable will be used directly. To keep current behavior pass the string \"sum\" instead.\n",
      "  init_bin = init_bin.groupby('brkp', group_keys=False).agg({\n",
      "c:\\Users\\USER\\Documents\\10X Exercises\\Week-6-Bati-Bank\\.venv\\Lib\\site-packages\\scorecardpy\\woebin.py:361: FutureWarning: The provided callable <built-in function sum> is currently using SeriesGroupBy.sum. In a future version of pandas, the provided callable will be used directly. To keep current behavior pass the string \"sum\" instead.\n",
      "  init_bin = init_bin.groupby('brkp', group_keys=False).agg({\n",
      "c:\\Users\\USER\\Documents\\10X Exercises\\Week-6-Bati-Bank\\.venv\\Lib\\site-packages\\scorecardpy\\woebin.py:361: FutureWarning: The provided callable <built-in function sum> is currently using SeriesGroupBy.sum. In a future version of pandas, the provided callable will be used directly. To keep current behavior pass the string \"sum\" instead.\n",
      "  init_bin = init_bin.groupby('brkp', group_keys=False).agg({\n",
      "c:\\Users\\USER\\Documents\\10X Exercises\\Week-6-Bati-Bank\\.venv\\Lib\\site-packages\\scorecardpy\\woebin.py:361: FutureWarning: The provided callable <built-in function sum> is currently using SeriesGroupBy.sum. In a future version of pandas, the provided callable will be used directly. To keep current behavior pass the string \"sum\" instead.\n",
      "  init_bin = init_bin.groupby('brkp', group_keys=False).agg({\n",
      "c:\\Users\\USER\\Documents\\10X Exercises\\Week-6-Bati-Bank\\.venv\\Lib\\site-packages\\scorecardpy\\woebin.py:361: FutureWarning: The provided callable <built-in function sum> is currently using SeriesGroupBy.sum. In a future version of pandas, the provided callable will be used directly. To keep current behavior pass the string \"sum\" instead.\n",
      "  init_bin = init_bin.groupby('brkp', group_keys=False).agg({\n",
      "c:\\Users\\USER\\Documents\\10X Exercises\\Week-6-Bati-Bank\\.venv\\Lib\\site-packages\\scorecardpy\\woebin.py:361: FutureWarning: The provided callable <built-in function sum> is currently using SeriesGroupBy.sum. In a future version of pandas, the provided callable will be used directly. To keep current behavior pass the string \"sum\" instead.\n",
      "  init_bin = init_bin.groupby('brkp', group_keys=False).agg({\n",
      "c:\\Users\\USER\\Documents\\10X Exercises\\Week-6-Bati-Bank\\.venv\\Lib\\site-packages\\scorecardpy\\woebin.py:361: FutureWarning: The provided callable <built-in function sum> is currently using SeriesGroupBy.sum. In a future version of pandas, the provided callable will be used directly. To keep current behavior pass the string \"sum\" instead.\n",
      "  init_bin = init_bin.groupby('brkp', group_keys=False).agg({\n",
      "c:\\Users\\USER\\Documents\\10X Exercises\\Week-6-Bati-Bank\\.venv\\Lib\\site-packages\\scorecardpy\\woebin.py:361: FutureWarning: The provided callable <built-in function sum> is currently using SeriesGroupBy.sum. In a future version of pandas, the provided callable will be used directly. To keep current behavior pass the string \"sum\" instead.\n",
      "  init_bin = init_bin.groupby('brkp', group_keys=False).agg({\n",
      "c:\\Users\\USER\\Documents\\10X Exercises\\Week-6-Bati-Bank\\.venv\\Lib\\site-packages\\scorecardpy\\woebin.py:361: FutureWarning: The provided callable <built-in function sum> is currently using SeriesGroupBy.sum. In a future version of pandas, the provided callable will be used directly. To keep current behavior pass the string \"sum\" instead.\n",
      "  init_bin = init_bin.groupby('brkp', group_keys=False).agg({\n",
      "c:\\Users\\USER\\Documents\\10X Exercises\\Week-6-Bati-Bank\\.venv\\Lib\\site-packages\\scorecardpy\\woebin.py:361: FutureWarning: The provided callable <built-in function sum> is currently using SeriesGroupBy.sum. In a future version of pandas, the provided callable will be used directly. To keep current behavior pass the string \"sum\" instead.\n",
      "  init_bin = init_bin.groupby('brkp', group_keys=False).agg({\n",
      "c:\\Users\\USER\\Documents\\10X Exercises\\Week-6-Bati-Bank\\.venv\\Lib\\site-packages\\scorecardpy\\woebin.py:361: FutureWarning: The provided callable <built-in function sum> is currently using SeriesGroupBy.sum. In a future version of pandas, the provided callable will be used directly. To keep current behavior pass the string \"sum\" instead.\n",
      "  init_bin = init_bin.groupby('brkp', group_keys=False).agg({\n",
      "c:\\Users\\USER\\Documents\\10X Exercises\\Week-6-Bati-Bank\\.venv\\Lib\\site-packages\\scorecardpy\\woebin.py:361: FutureWarning: The provided callable <built-in function sum> is currently using SeriesGroupBy.sum. In a future version of pandas, the provided callable will be used directly. To keep current behavior pass the string \"sum\" instead.\n",
      "  init_bin = init_bin.groupby('brkp', group_keys=False).agg({\n",
      "c:\\Users\\USER\\Documents\\10X Exercises\\Week-6-Bati-Bank\\.venv\\Lib\\site-packages\\scorecardpy\\woebin.py:361: FutureWarning: The provided callable <built-in function sum> is currently using SeriesGroupBy.sum. In a future version of pandas, the provided callable will be used directly. To keep current behavior pass the string \"sum\" instead.\n",
      "  init_bin = init_bin.groupby('brkp', group_keys=False).agg({\n",
      "c:\\Users\\USER\\Documents\\10X Exercises\\Week-6-Bati-Bank\\.venv\\Lib\\site-packages\\scorecardpy\\woebin.py:361: FutureWarning: The provided callable <built-in function sum> is currently using SeriesGroupBy.sum. In a future version of pandas, the provided callable will be used directly. To keep current behavior pass the string \"sum\" instead.\n",
      "  init_bin = init_bin.groupby('brkp', group_keys=False).agg({\n",
      "c:\\Users\\USER\\Documents\\10X Exercises\\Week-6-Bati-Bank\\.venv\\Lib\\site-packages\\scorecardpy\\woebin.py:361: FutureWarning: The provided callable <built-in function sum> is currently using SeriesGroupBy.sum. In a future version of pandas, the provided callable will be used directly. To keep current behavior pass the string \"sum\" instead.\n",
      "  init_bin = init_bin.groupby('brkp', group_keys=False).agg({\n",
      "c:\\Users\\USER\\Documents\\10X Exercises\\Week-6-Bati-Bank\\.venv\\Lib\\site-packages\\scorecardpy\\woebin.py:414: FutureWarning: The provided callable <built-in function sum> is currently using SeriesGroupBy.sum. In a future version of pandas, the provided callable will be used directly. To keep current behavior pass the string \"sum\" instead.\n",
      "  .agg({'good':sum, 'bad':sum}).reset_index()\\\n",
      "c:\\Users\\USER\\Documents\\10X Exercises\\Week-6-Bati-Bank\\.venv\\Lib\\site-packages\\scorecardpy\\woebin.py:414: FutureWarning: The provided callable <built-in function sum> is currently using SeriesGroupBy.sum. In a future version of pandas, the provided callable will be used directly. To keep current behavior pass the string \"sum\" instead.\n",
      "  .agg({'good':sum, 'bad':sum}).reset_index()\\\n",
      "c:\\Users\\USER\\Documents\\10X Exercises\\Week-6-Bati-Bank\\.venv\\Lib\\site-packages\\scorecardpy\\woebin.py:442: FutureWarning: The default of observed=False is deprecated and will be changed to True in a future version of pandas. Pass observed=False to retain current behavior or observed=True to adopt the future default and silence this warning.\n",
      "  binning_1bst_brk = binning_1bst_brk.groupby(['variable', 'bstbin'], group_keys=False)\\\n",
      "c:\\Users\\USER\\Documents\\10X Exercises\\Week-6-Bati-Bank\\.venv\\Lib\\site-packages\\scorecardpy\\woebin.py:443: FutureWarning: The provided callable <built-in function sum> is currently using SeriesGroupBy.sum. In a future version of pandas, the provided callable will be used directly. To keep current behavior pass the string \"sum\" instead.\n",
      "  .agg({'good':sum, 'bad':sum}).reset_index().assign(bin=lambda x: x['bstbin'])\\\n",
      "c:\\Users\\USER\\Documents\\10X Exercises\\Week-6-Bati-Bank\\.venv\\Lib\\site-packages\\scorecardpy\\woebin.py:443: FutureWarning: The provided callable <built-in function sum> is currently using SeriesGroupBy.sum. In a future version of pandas, the provided callable will be used directly. To keep current behavior pass the string \"sum\" instead.\n",
      "  .agg({'good':sum, 'bad':sum}).reset_index().assign(bin=lambda x: x['bstbin'])\\\n",
      "c:\\Users\\USER\\Documents\\10X Exercises\\Week-6-Bati-Bank\\.venv\\Lib\\site-packages\\scorecardpy\\woebin.py:413: FutureWarning: The default of observed=False is deprecated and will be changed to True in a future version of pandas. Pass observed=False to retain current behavior or observed=True to adopt the future default and silence this warning.\n",
      "  .groupby(['variable', 'bstbin', 'value'], group_keys=False)\\\n",
      "c:\\Users\\USER\\Documents\\10X Exercises\\Week-6-Bati-Bank\\.venv\\Lib\\site-packages\\scorecardpy\\woebin.py:414: FutureWarning: The provided callable <built-in function sum> is currently using SeriesGroupBy.sum. In a future version of pandas, the provided callable will be used directly. To keep current behavior pass the string \"sum\" instead.\n",
      "  .agg({'good':sum, 'bad':sum}).reset_index()\\\n",
      "c:\\Users\\USER\\Documents\\10X Exercises\\Week-6-Bati-Bank\\.venv\\Lib\\site-packages\\scorecardpy\\woebin.py:414: FutureWarning: The provided callable <built-in function sum> is currently using SeriesGroupBy.sum. In a future version of pandas, the provided callable will be used directly. To keep current behavior pass the string \"sum\" instead.\n",
      "  .agg({'good':sum, 'bad':sum}).reset_index()\\\n",
      "c:\\Users\\USER\\Documents\\10X Exercises\\Week-6-Bati-Bank\\.venv\\Lib\\site-packages\\scorecardpy\\woebin.py:442: FutureWarning: The default of observed=False is deprecated and will be changed to True in a future version of pandas. Pass observed=False to retain current behavior or observed=True to adopt the future default and silence this warning.\n",
      "  binning_1bst_brk = binning_1bst_brk.groupby(['variable', 'bstbin'], group_keys=False)\\\n",
      "c:\\Users\\USER\\Documents\\10X Exercises\\Week-6-Bati-Bank\\.venv\\Lib\\site-packages\\scorecardpy\\woebin.py:443: FutureWarning: The provided callable <built-in function sum> is currently using SeriesGroupBy.sum. In a future version of pandas, the provided callable will be used directly. To keep current behavior pass the string \"sum\" instead.\n",
      "  .agg({'good':sum, 'bad':sum}).reset_index().assign(bin=lambda x: x['bstbin'])\\\n",
      "c:\\Users\\USER\\Documents\\10X Exercises\\Week-6-Bati-Bank\\.venv\\Lib\\site-packages\\scorecardpy\\woebin.py:443: FutureWarning: The provided callable <built-in function sum> is currently using SeriesGroupBy.sum. In a future version of pandas, the provided callable will be used directly. To keep current behavior pass the string \"sum\" instead.\n",
      "  .agg({'good':sum, 'bad':sum}).reset_index().assign(bin=lambda x: x['bstbin'])\\\n",
      "c:\\Users\\USER\\Documents\\10X Exercises\\Week-6-Bati-Bank\\.venv\\Lib\\site-packages\\scorecardpy\\woebin.py:320: FutureWarning: The default of observed=False is deprecated and will be changed to True in a future version of pandas. Pass observed=False to retain current behavior or observed=True to adopt the future default and silence this warning.\n",
      "  init_bin = dtm.groupby('bin', group_keys=False)['y'].agg([n0, n1])\\\n",
      "c:\\Users\\USER\\Documents\\10X Exercises\\Week-6-Bati-Bank\\.venv\\Lib\\site-packages\\scorecardpy\\woebin.py:414: FutureWarning: The provided callable <built-in function sum> is currently using SeriesGroupBy.sum. In a future version of pandas, the provided callable will be used directly. To keep current behavior pass the string \"sum\" instead.\n",
      "  .agg({'good':sum, 'bad':sum}).reset_index()\\\n",
      "c:\\Users\\USER\\Documents\\10X Exercises\\Week-6-Bati-Bank\\.venv\\Lib\\site-packages\\scorecardpy\\woebin.py:414: FutureWarning: The provided callable <built-in function sum> is currently using SeriesGroupBy.sum. In a future version of pandas, the provided callable will be used directly. To keep current behavior pass the string \"sum\" instead.\n",
      "  .agg({'good':sum, 'bad':sum}).reset_index()\\\n",
      "c:\\Users\\USER\\Documents\\10X Exercises\\Week-6-Bati-Bank\\.venv\\Lib\\site-packages\\scorecardpy\\woebin.py:442: FutureWarning: The default of observed=False is deprecated and will be changed to True in a future version of pandas. Pass observed=False to retain current behavior or observed=True to adopt the future default and silence this warning.\n",
      "  binning_1bst_brk = binning_1bst_brk.groupby(['variable', 'bstbin'], group_keys=False)\\\n",
      "c:\\Users\\USER\\Documents\\10X Exercises\\Week-6-Bati-Bank\\.venv\\Lib\\site-packages\\scorecardpy\\woebin.py:443: FutureWarning: The provided callable <built-in function sum> is currently using SeriesGroupBy.sum. In a future version of pandas, the provided callable will be used directly. To keep current behavior pass the string \"sum\" instead.\n",
      "  .agg({'good':sum, 'bad':sum}).reset_index().assign(bin=lambda x: x['bstbin'])\\\n",
      "c:\\Users\\USER\\Documents\\10X Exercises\\Week-6-Bati-Bank\\.venv\\Lib\\site-packages\\scorecardpy\\woebin.py:443: FutureWarning: The provided callable <built-in function sum> is currently using SeriesGroupBy.sum. In a future version of pandas, the provided callable will be used directly. To keep current behavior pass the string \"sum\" instead.\n",
      "  .agg({'good':sum, 'bad':sum}).reset_index().assign(bin=lambda x: x['bstbin'])\\\n",
      "c:\\Users\\USER\\Documents\\10X Exercises\\Week-6-Bati-Bank\\.venv\\Lib\\site-packages\\scorecardpy\\woebin.py:414: FutureWarning: The provided callable <built-in function sum> is currently using SeriesGroupBy.sum. In a future version of pandas, the provided callable will be used directly. To keep current behavior pass the string \"sum\" instead.\n",
      "  .agg({'good':sum, 'bad':sum}).reset_index()\\\n",
      "c:\\Users\\USER\\Documents\\10X Exercises\\Week-6-Bati-Bank\\.venv\\Lib\\site-packages\\scorecardpy\\woebin.py:414: FutureWarning: The provided callable <built-in function sum> is currently using SeriesGroupBy.sum. In a future version of pandas, the provided callable will be used directly. To keep current behavior pass the string \"sum\" instead.\n",
      "  .agg({'good':sum, 'bad':sum}).reset_index()\\\n",
      "c:\\Users\\USER\\Documents\\10X Exercises\\Week-6-Bati-Bank\\.venv\\Lib\\site-packages\\scorecardpy\\woebin.py:442: FutureWarning: The default of observed=False is deprecated and will be changed to True in a future version of pandas. Pass observed=False to retain current behavior or observed=True to adopt the future default and silence this warning.\n",
      "  binning_1bst_brk = binning_1bst_brk.groupby(['variable', 'bstbin'], group_keys=False)\\\n",
      "c:\\Users\\USER\\Documents\\10X Exercises\\Week-6-Bati-Bank\\.venv\\Lib\\site-packages\\scorecardpy\\woebin.py:443: FutureWarning: The provided callable <built-in function sum> is currently using SeriesGroupBy.sum. In a future version of pandas, the provided callable will be used directly. To keep current behavior pass the string \"sum\" instead.\n",
      "  .agg({'good':sum, 'bad':sum}).reset_index().assign(bin=lambda x: x['bstbin'])\\\n",
      "c:\\Users\\USER\\Documents\\10X Exercises\\Week-6-Bati-Bank\\.venv\\Lib\\site-packages\\scorecardpy\\woebin.py:443: FutureWarning: The provided callable <built-in function sum> is currently using SeriesGroupBy.sum. In a future version of pandas, the provided callable will be used directly. To keep current behavior pass the string \"sum\" instead.\n",
      "  .agg({'good':sum, 'bad':sum}).reset_index().assign(bin=lambda x: x['bstbin'])\\\n"
     ]
    }
   ],
   "source": [
    "# Convert non-numeric values to NaN and then fill with a placeholder\n",
    "df = df.apply(pd.to_numeric, errors='coerce').fillna(-999)\n",
    "\n",
    "# Automatic binning of numerical and categorical variables\n",
    "bins = sc.woebin(df, y=\"target\", bins=10, no_cores=2)"
   ]
  },
  {
   "cell_type": "code",
   "execution_count": 13,
   "metadata": {},
   "outputs": [
    {
     "name": "stdout",
     "output_type": "stream",
     "text": [
      "  variable           bin  count  count_distr   good  bad   badprob       woe  \\\n",
      "0   Amount    [-inf,0.0)  38189     0.399208  38184    5  0.000131 -2.736867   \n",
      "1   Amount  [0.0,1500.0)  25243     0.263877  25242    1  0.000040 -3.932398   \n",
      "2   Amount  [1500.0,inf)  32230     0.336915  32043  187  0.005802  1.060141   \n",
      "\n",
      "     bin_iv  total_iv  breaks  is_special_values  \n",
      "0  1.023740  2.714451     0.0              False  \n",
      "1  1.019351  2.714451  1500.0              False  \n",
      "2  0.671360  2.714451     inf              False  \n"
     ]
    }
   ],
   "source": [
    "print(bins['Amount'])"
   ]
  },
  {
   "cell_type": "code",
   "execution_count": 14,
   "metadata": {},
   "outputs": [
    {
     "name": "stdout",
     "output_type": "stream",
     "text": [
      "[INFO] converting into woe values ...\n"
     ]
    }
   ],
   "source": [
    "# Apply WOE transformations\n",
    "df_woe = sc.woebin_ply(df, bins)"
   ]
  },
  {
   "cell_type": "code",
   "execution_count": 15,
   "metadata": {},
   "outputs": [
    {
     "name": "stdout",
     "output_type": "stream",
     "text": [
      "   TransactionId  CountryCode  TransactionStartTime  CurrencyCode  target  \\\n",
      "0         -999.0          256                -999.0        -999.0       0   \n",
      "1         -999.0          256                -999.0        -999.0       0   \n",
      "2         -999.0          256                -999.0        -999.0       0   \n",
      "3         -999.0          256                -999.0        -999.0       0   \n",
      "4         -999.0          256                -999.0        -999.0       0   \n",
      "\n",
      "   AccountId  CustomerId  ProviderId  ProductId  ChannelId  SubscriptionId  \\\n",
      "0     -999.0      -999.0      -999.0     -999.0     -999.0          -999.0   \n",
      "1     -999.0      -999.0      -999.0     -999.0     -999.0          -999.0   \n",
      "2     -999.0      -999.0      -999.0     -999.0     -999.0          -999.0   \n",
      "3     -999.0      -999.0      -999.0     -999.0     -999.0          -999.0   \n",
      "4     -999.0      -999.0      -999.0     -999.0     -999.0          -999.0   \n",
      "\n",
      "   BatchId  ProductCategory  Amount_woe  Value_woe  PricingStrategy_woe  \n",
      "0   -999.0           -999.0   -3.932398  -3.742537             0.094399  \n",
      "1   -999.0           -999.0   -2.736867  -4.183281             0.094399  \n",
      "2   -999.0           -999.0   -3.932398  -4.183281             0.094399  \n",
      "3   -999.0           -999.0    1.060141   0.807103             0.094399  \n",
      "4   -999.0           -999.0   -2.736867  -4.183281             0.094399  \n"
     ]
    }
   ],
   "source": [
    "# Display the transformed dataset with WOE values\n",
    "print(df_woe.head())"
   ]
  },
  {
   "cell_type": "code",
   "execution_count": 17,
   "metadata": {},
   "outputs": [],
   "source": [
    "# Extract the IV values for all features\n",
    "iv_values = {key: value['total_iv'].values[0] for key, value in bins.items()}"
   ]
  },
  {
   "cell_type": "code",
   "execution_count": 18,
   "metadata": {},
   "outputs": [
    {
     "name": "stdout",
     "output_type": "stream",
     "text": [
      "Information Value (IV):\n",
      "{'Amount': np.float64(2.714451218724242), 'Value': np.float64(2.6411904776462554), 'PricingStrategy': np.float64(0.08552868425952848)}\n"
     ]
    }
   ],
   "source": [
    "# Display IV summary\n",
    "print(\"Information Value (IV):\")\n",
    "print(iv_values)"
   ]
  },
  {
   "cell_type": "code",
   "execution_count": 20,
   "metadata": {},
   "outputs": [
    {
     "name": "stdout",
     "output_type": "stream",
     "text": [
      "WOE-transformed dataset saved as 'woe_transformed_data.csv'.\n",
      "Information Value (IV) summary saved as 'information_values.csv'.\n"
     ]
    }
   ],
   "source": [
    "# ------------------------\n",
    "# Save WOE-Transformed Dataset\n",
    "# ------------------------\n",
    "df_woe.to_csv('../data/woe_transformed_data.csv', index=False)\n",
    "print(\"WOE-transformed dataset saved as 'woe_transformed_data.csv'.\")\n",
    "\n",
    "# ------------------------\n",
    "# Save Information Value (IV)\n",
    "# ------------------------\n",
    "iv_values_df = pd.DataFrame(list(iv_values.items()), columns=['Variable', 'IV'])\n",
    "iv_values_df.to_csv('../data/information_values.csv', index=False)\n",
    "print(\"Information Value (IV) summary saved as 'information_values.csv'.\")"
   ]
  }
 ],
 "metadata": {
  "kernelspec": {
   "display_name": ".venv",
   "language": "python",
   "name": "python3"
  },
  "language_info": {
   "codemirror_mode": {
    "name": "ipython",
    "version": 3
   },
   "file_extension": ".py",
   "mimetype": "text/x-python",
   "name": "python",
   "nbconvert_exporter": "python",
   "pygments_lexer": "ipython3",
   "version": "3.13.1"
  }
 },
 "nbformat": 4,
 "nbformat_minor": 2
}
